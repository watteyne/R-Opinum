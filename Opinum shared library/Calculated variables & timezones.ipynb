{
 "cells": [
  {
   "cell_type": "markdown",
   "metadata": {
    "collapsed": true,
    "pycharm": {
     "name": "#%% md\n"
    }
   },
   "source": [
    "# Calculated variables\n",
    "\n",
    "## Structure of incoming data\n",
    "\n",
    "Before launching your code, Datahub will load R data based on your selection.\n",
    "\n",
    "### Variables\n",
    "\n",
    "They are located in the ```inputVariables``` List\n",
    "For each of them, we have a list of two components\n",
    "* ```Variable```\n",
    "A list of information about the input variable\n",
    "* ```TimeSeries```\n",
    "A dataframe with ```Dates``` and ```Values```\n",
    "\n",
    "### Forms\n",
    "\n",
    "Static source or site Forms values, located in the ```inputFormss``` List\n",
    "\n",
    "### Constants\n",
    "\n",
    "Located in the ```inputFormss``` List\n",
    "\n",
    "### Target variable\n",
    "\n",
    "```targetVariable```, a list of information about the input variable\n",
    "\n",
    "## Building your R code\n",
    "\n",
    "Datahub expects that your code returns a list of TimeSeries.\n",
    "A typical last line of your code is\n",
    "```list(TimeSeries=data.frame(Dates=your_dates, Values=your_values))```\n",
    "\n",
    "## Managing dates and timezones\n",
    "\n",
    "### How does Datahub manage dates?\n",
    "\n",
    "\n",
    "\n",
    "### Dates format\n",
    "\n",
    "The incoming dates are in POSIX format.\n",
    "They are in the timezone of the source but, take care, they are strictly numeric.\n",
    "So the exact multiples of (24 * 60 * 60) represent datetimes at midnight in the target source timezone.\n"
   ]
  },
  {
   "cell_type": "code",
   "execution_count": null,
   "outputs": [],
   "source": [],
   "metadata": {
    "collapsed": false,
    "pycharm": {
     "name": "#%%\n"
    }
   }
  }
 ],
 "metadata": {
  "kernelspec": {
   "display_name": "Python 3",
   "language": "python",
   "name": "python3"
  },
  "language_info": {
   "codemirror_mode": {
    "name": "ipython",
    "version": 2
   },
   "file_extension": ".py",
   "mimetype": "text/x-python",
   "name": "python",
   "nbconvert_exporter": "python",
   "pygments_lexer": "ipython2",
   "version": "2.7.6"
  }
 },
 "nbformat": 4,
 "nbformat_minor": 0
}